{
 "cells": [
  {
   "metadata": {},
   "cell_type": "markdown",
   "source": "# 学習データの分割",
   "id": "5de824e4f4dc6459"
  },
  {
   "metadata": {
    "ExecuteTime": {
     "end_time": "2024-08-26T08:12:15.171469Z",
     "start_time": "2024-08-26T08:12:15.165761Z"
    }
   },
   "cell_type": "code",
   "source": [
    "# データの分割\n",
    "import pandas as pd\n",
    "\n",
    "df_train = pd.read_csv('data/input/train.csv')\n",
    "df_test = pd.read_csv('data/input/test.csv')\n",
    "connection_df = pd.read_csv('data/input/pretreatment_data01.csv')\n",
    "\n",
    "train_df = connection_df[:len(df_train)]\n",
    "test_df = connection_df[len(df_train):].drop(columns=['SalePrice'])\n",
    "\n",
    "# X_trainには、SalePriceを除いたtrain_dfを代入\n",
    "X_train = train_df.drop(\"SalePrice\", axis=1)\n",
    "\n",
    "# y_trainには、SalePriceのみが入ったtrain_dfを代入\n",
    "y_train = train_df[\"SalePrice\"]\n",
    "\n",
    "# X_testにはtrain_dfを代入\n",
    "X_test = test_df\n",
    "\n",
    "print(X_train.shape, y_train.shape, X_test.shape)"
   ],
   "id": "c90405cc2afd5c9a",
   "execution_count": 31,
   "outputs": []
  },
  {
   "metadata": {
    "ExecuteTime": {
     "end_time": "2024-08-26T08:20:38.473463Z",
     "start_time": "2024-08-26T08:20:36.769872Z"
    }
   },
   "cell_type": "code",
   "source": [
    "from sklearn.model_selection import KFold\n",
    "from sklearn.metrics import mean_squared_error\n",
    "\n",
    "def run_cv(model):\n",
    "    \"\"\"\n",
    "    \n",
    "    :param model: \n",
    "    :return: \n",
    "    \"\"\"\n",
    "    cv = KFold(n_splits=3, random_state=42, shuffle=True)\n",
    "    rmse_results = []\n",
    "    models = []\n",
    "    \n",
    "    for trn_index, val_index in cv.split(X_train):\n",
    "        X_trn, X_val = X_train.loc[trn_index], X_train.loc[val_index]\n",
    "        y_trn, y_val = y_train[trn_index], y_train[val_index]\n",
    "        \n",
    "        # モデルの学習\n",
    "        model.fit(X_trn, y_trn)\n",
    "        pred = model.predict(X_val)\n",
    "        \n",
    "        # モデル制度の算出\n",
    "        rmse = np.sqrt(mean_squared_error(y_val, pred))\n",
    "        print(\"RMSE:\", rmse)\n",
    "        models.append(model)\n",
    "    \n",
    "    print(rmse_results)\n",
    "    print(\"Average RMSE:\", np.mean(rmse_results))\n",
    "    return models"
   ],
   "id": "795d394e9a3cea6a",
   "execution_count": 32,
   "outputs": []
  },
  {
   "metadata": {
    "ExecuteTime": {
     "end_time": "2024-08-26T08:26:12.155593Z",
     "start_time": "2024-08-26T08:26:09.314293Z"
    }
   },
   "cell_type": "code",
   "source": [
    "import lightgbm as lgb\n",
    "\n",
    "lgb_params = {\n",
    "    \"objective\":\"regression\",\n",
    "    \"metric\": \"rmse\"\n",
    "}\n",
    "\n",
    "cv = KFold(n_splits=3, random_state=42, shuffle=True)\n",
    "rmse_results = []\n",
    "lgbm_models = []\n",
    "# テストデータに対する予測結果を格納するための空の配列\n",
    "test_preds = np.zeros(len(X_test))\n",
    "\n",
    "for trn_index, val_index in cv.split(X_train, y_train):\n",
    "    X_trn, X_val = X_train.loc[trn_index], X_train.loc[val_index]\n",
    "    y_trn, y_val = y_train[trn_index], y_train[val_index]\n",
    "    \n",
    "    train_lgb = lgb.Dataset(X_trn, y_trn)\n",
    "    validation_lgb = lgb.Dataset(X_val, y_val)\n",
    "    model = lgb.train(\n",
    "        lgb_params, train_lgb, \n",
    "        num_boost_round=1000, valid_sets=[train_lgb, validation_lgb], \n",
    "\n",
    "        )\n",
    "    pred = model.predict(X_val)\n",
    "    rmse = np.sqrt(mean_squared_error(y_val, pred))\n",
    "    print(\"RMSE:\", rmse)\n",
    "    rmse_results.append(rmse)\n",
    "    lgbm_models.append(model)\n",
    "\n",
    "    test_preds += model.predict(X_test) / cv.n_splits\n",
    "\n",
    "print(rmse_results)\n",
    "print(\"Average:\", np.mean(rmse_results))"
   ],
   "id": "f1358ed3fbedc0e5",
   "execution_count": 35,
   "outputs": []
  },
  {
   "metadata": {},
   "cell_type": "markdown",
   "source": "# データの提出",
   "id": "3aab19ac214b1ba8"
  },
  {
   "metadata": {
    "ExecuteTime": {
     "end_time": "2024-08-26T08:28:19.388314Z",
     "start_time": "2024-08-26T08:28:19.359305Z"
    }
   },
   "cell_type": "code",
   "source": [
    "submission = pd.read_csv(\"sample_submission.csv\")\n",
    "submission[\"SalePrice\"] = test_preds\n",
    "\n",
    "# 提出ファイルの出力\n",
    "submission.to_csv(\"submission.csv\", index=False)"
   ],
   "id": "78d9fa47e1c69f14",
   "execution_count": 36,
   "outputs": []
  }
 ],
 "metadata": {
  "kernelspec": {
   "display_name": "Python 3",
   "language": "python",
   "name": "python3"
  },
  "language_info": {
   "codemirror_mode": {
    "name": "ipython",
    "version": 2
   },
   "file_extension": ".py",
   "mimetype": "text/x-python",
   "name": "python",
   "nbconvert_exporter": "python",
   "pygments_lexer": "ipython2",
   "version": "2.7.6"
  }
 },
 "nbformat": 4,
 "nbformat_minor": 5
}
