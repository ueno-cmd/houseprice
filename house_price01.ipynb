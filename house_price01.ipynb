{
 "cells": [
  {
   "metadata": {},
   "cell_type": "markdown",
   "source": "ライブラリのインポート",
   "id": "86cbaf518872e638"
  },
  {
   "metadata": {
    "ExecuteTime": {
     "end_time": "2024-08-26T07:03:45.235745Z",
     "start_time": "2024-08-26T07:03:45.197553Z"
    }
   },
   "cell_type": "code",
   "source": [
    "import pandas as pd\n",
    "import numpy as np\n",
    "import matplotlib.pyplot as plt\n",
    "import seaborn as sns\n",
    "\n",
    "from scipy import stats\n",
    "from scipy.stats import norm\n",
    "\n",
    "%matplotlib inline"
   ],
   "id": "initial_id",
   "execution_count": 1,
   "outputs": []
  },
  {
   "metadata": {},
   "cell_type": "markdown",
   "source": "データの読み込み",
   "id": "563fc5cfc89c7edd"
  },
  {
   "metadata": {
    "ExecuteTime": {
     "end_time": "2024-08-26T07:04:02.375959Z",
     "start_time": "2024-08-26T07:04:02.299589Z"
    }
   },
   "cell_type": "code",
   "source": [
    "df_train = pd.read_csv(\"data/train.csv\")\n",
    "df_test = pd.read_csv(\"data/test.csv\")"
   ],
   "id": "3ed6f8e297aff015",
   "execution_count": 2,
   "outputs": []
  },
  {
   "metadata": {
    "ExecuteTime": {
     "end_time": "2024-06-13T00:10:07.852667Z",
     "start_time": "2024-06-13T00:10:07.835319Z"
    }
   },
   "cell_type": "code",
   "source": "df_train.head()",
   "id": "392ce9db97629870",
   "execution_count": 3,
   "outputs": []
  },
  {
   "metadata": {
    "ExecuteTime": {
     "end_time": "2024-06-13T00:10:17.068758Z",
     "start_time": "2024-06-13T00:10:17.058436Z"
    }
   },
   "cell_type": "code",
   "source": "df_train.tail()",
   "id": "5f77683859a62208",
   "execution_count": 4,
   "outputs": []
  },
  {
   "metadata": {
    "ExecuteTime": {
     "end_time": "2024-06-13T00:10:49.316983Z",
     "start_time": "2024-06-13T00:10:49.304503Z"
    }
   },
   "cell_type": "code",
   "source": "df_test.head()",
   "id": "934d2a597a6e0fea",
   "execution_count": 5,
   "outputs": []
  },
  {
   "metadata": {
    "ExecuteTime": {
     "end_time": "2024-08-25T12:29:32.832530Z",
     "start_time": "2024-08-25T12:29:32.824709Z"
    }
   },
   "cell_type": "code",
   "source": "df_train.columns",
   "id": "188153cdd65533fb",
   "execution_count": 7,
   "outputs": []
  },
  {
   "metadata": {
    "ExecuteTime": {
     "end_time": "2024-06-13T00:34:47.241439Z",
     "start_time": "2024-06-13T00:34:47.235110Z"
    }
   },
   "cell_type": "code",
   "source": "df_train.isnull().sum()",
   "id": "9121a518dc2fd08a",
   "execution_count": 14,
   "outputs": []
  },
  {
   "metadata": {
    "ExecuteTime": {
     "end_time": "2024-06-13T00:35:39.328347Z",
     "start_time": "2024-06-13T00:35:39.319697Z"
    }
   },
   "cell_type": "code",
   "source": "df_test.isnull().sum()",
   "id": "db5eedf33ff20089",
   "execution_count": 15,
   "outputs": []
  },
  {
   "metadata": {
    "ExecuteTime": {
     "end_time": "2024-08-25T12:32:45.686932Z",
     "start_time": "2024-08-25T12:32:45.665612Z"
    }
   },
   "cell_type": "code",
   "source": "df_train.info()",
   "id": "6e76ebbcb2db723b",
   "execution_count": 10,
   "outputs": []
  },
  {
   "metadata": {
    "ExecuteTime": {
     "end_time": "2024-08-25T12:33:51.628127Z",
     "start_time": "2024-08-25T12:33:51.606572Z"
    }
   },
   "cell_type": "code",
   "source": "df_test.info()",
   "id": "fa9257ab83731039",
   "execution_count": 11,
   "outputs": []
  },
  {
   "metadata": {
    "ExecuteTime": {
     "end_time": "2024-08-25T12:34:54.054320Z",
     "start_time": "2024-08-25T12:34:54.021078Z"
    }
   },
   "cell_type": "code",
   "source": "df_train.describe(include='O')",
   "id": "447569bc5de11e4e",
   "execution_count": 13,
   "outputs": []
  },
  {
   "metadata": {},
   "cell_type": "markdown",
   "source": "データの前処理",
   "id": "ceb6d8cef804c985"
  },
  {
   "metadata": {
    "ExecuteTime": {
     "end_time": "2024-06-13T00:14:54.790451Z",
     "start_time": "2024-06-13T00:14:54.783802Z"
    }
   },
   "cell_type": "code",
   "source": [
    "# [\"SalePrice\"]の確認：describe\n",
    "df_train[\"SalePrice\"].describe()"
   ],
   "id": "1d1416f9dac21d4",
   "execution_count": 7,
   "outputs": []
  },
  {
   "metadata": {
    "ExecuteTime": {
     "end_time": "2024-06-13T00:16:02.058630Z",
     "start_time": "2024-06-13T00:16:01.926680Z"
    }
   },
   "cell_type": "code",
   "source": "sns.distplot(df_train[\"SalePrice\"]);",
   "id": "2348039508af6522",
   "execution_count": 9,
   "outputs": []
  },
  {
   "metadata": {
    "ExecuteTime": {
     "end_time": "2024-06-13T00:21:38.454814Z",
     "start_time": "2024-06-13T00:21:38.451137Z"
    }
   },
   "cell_type": "code",
   "source": [
    "# 尤度と歪度\n",
    "print(f\"歪度:{df_train['SalePrice'].skew()}\")\n",
    "print(f\"尤度:{df_train['SalePrice'].kurt()}\")"
   ],
   "id": "603dd1f0f69c3d09",
   "execution_count": 11,
   "outputs": []
  },
  {
   "metadata": {
    "ExecuteTime": {
     "end_time": "2024-06-13T00:32:09.669955Z",
     "start_time": "2024-06-13T00:32:09.550605Z"
    }
   },
   "cell_type": "code",
   "source": [
    "# 住居面積と販売価格の散布図\n",
    "var = \"GrLivArea\"\n",
    "data = pd.concat([df_train[\"SalePrice\"], df_train[var]], axis=1)\n",
    "data.plot.scatter(x=var, y=\"SalePrice\", ylim=(0, 800000));"
   ],
   "id": "90617696fc5c71ad",
   "execution_count": 12,
   "outputs": []
  },
  {
   "metadata": {
    "ExecuteTime": {
     "end_time": "2024-06-13T00:34:25.782327Z",
     "start_time": "2024-06-13T00:34:25.673446Z"
    }
   },
   "cell_type": "code",
   "source": [
    "# 地下室の総面積と住宅価格\n",
    "var = \"TotalBsmtSF\"\n",
    "data = pd.concat([df_train[\"SalePrice\"], df_train[var]], axis=1)\n",
    "data.plot.scatter(x=var, y=\"SalePrice\", ylim=(0, 800000));"
   ],
   "id": "ee311efb06733370",
   "execution_count": 13,
   "outputs": []
  },
  {
   "metadata": {},
   "cell_type": "markdown",
   "source": "- 数値型と小数点型のみのデータでヒートマップを作成",
   "id": "4f69d558e79eb8e8"
  },
  {
   "metadata": {
    "ExecuteTime": {
     "end_time": "2024-08-25T12:42:19.246579Z",
     "start_time": "2024-08-25T12:42:19.242889Z"
    }
   },
   "cell_type": "code",
   "source": "df_train2 = df_train.select_dtypes(include=[\"int64\", \"float64\"])",
   "id": "ac45815373144b52",
   "execution_count": 15,
   "outputs": []
  },
  {
   "metadata": {
    "ExecuteTime": {
     "end_time": "2024-08-25T12:48:39.855232Z",
     "start_time": "2024-08-25T12:48:39.851468Z"
    }
   },
   "cell_type": "code",
   "source": "df_test2 = df_test.select_dtypes(include=[\"int64\", \"float64\"])",
   "id": "3a944e6e24ef8f55",
   "execution_count": 18,
   "outputs": []
  },
  {
   "metadata": {
    "ExecuteTime": {
     "end_time": "2024-08-25T12:45:49.424912Z",
     "start_time": "2024-08-25T12:45:48.277126Z"
    }
   },
   "cell_type": "code",
   "source": [
    "# ヒートマップ\n",
    "plt.figure(figsize=(12,9))\n",
    "sns.heatmap(df_train2.corr(), annot=True)\n",
    "plt.title(\"Correlation Heatmap\")\n",
    "plt.show()"
   ],
   "id": "322fb6a0724812ea",
   "execution_count": 17,
   "outputs": []
  },
  {
   "metadata": {
    "ExecuteTime": {
     "end_time": "2024-08-25T12:52:43.493755Z",
     "start_time": "2024-08-25T12:52:43.471238Z"
    }
   },
   "cell_type": "code",
   "source": [
    "# SalesPriceとの相関の強さ（相関係数）を降順にソート\n",
    "corr = df_train2.corr()\n",
    "corr.sort_values(\"SalePrice\", ascending=False)"
   ],
   "id": "5de2bd0e2aa5d1d0",
   "execution_count": 20,
   "outputs": []
  },
  {
   "metadata": {
    "ExecuteTime": {
     "end_time": "2024-08-25T12:48:59.295845Z",
     "start_time": "2024-08-25T12:48:58.173343Z"
    }
   },
   "cell_type": "code",
   "source": [
    "# ヒートマップ\n",
    "plt.figure(figsize=(12,9))\n",
    "sns.heatmap(df_test2.corr(), annot=True)\n",
    "plt.title(\"Correlation Heatmap\")\n",
    "plt.show()"
   ],
   "id": "be58f78b9983a9c6",
   "execution_count": 19,
   "outputs": []
  },
  {
   "metadata": {
    "ExecuteTime": {
     "end_time": "2024-08-25T12:58:46.812931Z",
     "start_time": "2024-08-25T12:58:46.782808Z"
    }
   },
   "cell_type": "code",
   "source": [
    "corr_test = df_test2.corr()\n",
    "corr.sort_values(\"SalePrice\", ascending=False)"
   ],
   "id": "3f344bdcff30e606",
   "execution_count": 21,
   "outputs": []
  },
  {
   "metadata": {
    "ExecuteTime": {
     "end_time": "2024-08-26T07:08:32.895630Z",
     "start_time": "2024-08-26T07:08:32.825109Z"
    }
   },
   "cell_type": "code",
   "source": [
    "connection_df = pd.concat((df_train, df_test))\n",
    "connection_df.head()"
   ],
   "id": "8c8eab435f436fee",
   "execution_count": 3,
   "outputs": []
  },
  {
   "metadata": {
    "ExecuteTime": {
     "end_time": "2024-08-26T07:08:40.804436Z",
     "start_time": "2024-08-26T07:08:40.784521Z"
    }
   },
   "cell_type": "code",
   "source": "connection_df.tail()",
   "id": "939f360658d3420a",
   "execution_count": 4,
   "outputs": []
  },
  {
   "metadata": {
    "ExecuteTime": {
     "end_time": "2024-08-26T07:09:17.577608Z",
     "start_time": "2024-08-26T07:09:17.549616Z"
    }
   },
   "cell_type": "code",
   "source": "connection_df.info()",
   "id": "6a0045f2b3f683ed",
   "execution_count": 5,
   "outputs": []
  },
  {
   "metadata": {
    "ExecuteTime": {
     "end_time": "2024-08-26T07:16:33.643183Z",
     "start_time": "2024-08-26T07:16:33.630998Z"
    }
   },
   "cell_type": "code",
   "source": "connection_df.isnull().sum()",
   "id": "d1d5df30d9115826",
   "execution_count": 6,
   "outputs": []
  },
  {
   "metadata": {},
   "cell_type": "markdown",
   "source": "# 文字型の欠損値処理",
   "id": "424fcc578cb8201b"
  },
  {
   "metadata": {
    "ExecuteTime": {
     "end_time": "2024-08-26T07:18:00.375968Z",
     "start_time": "2024-08-26T07:18:00.368815Z"
    }
   },
   "cell_type": "code",
   "source": [
    "# object型の欠損値処理\n",
    "connection_df[\"PoolQC\"] = connection_df[\"PoolQC\"].fillna(\"None\")\n",
    "connection_df[\"MiscFeature\"] = connection_df[\"MiscFeature\"].fillna(\"None\")\n",
    "connection_df[\"Alley\"] = connection_df[\"Alley\"].fillna(\"None\")\n",
    "connection_df[\"Fence\"] = connection_df[\"Fence\"].fillna(\"None\")\n",
    "connection_df[\"FireplaceQu\"] = connection_df[\"FireplaceQu\"].fillna(\"None\")"
   ],
   "id": "98df74b1b4f5dbb6",
   "execution_count": 7,
   "outputs": []
  },
  {
   "metadata": {
    "ExecuteTime": {
     "end_time": "2024-08-26T07:20:32.193071Z",
     "start_time": "2024-08-26T07:20:32.181543Z"
    }
   },
   "cell_type": "code",
   "source": [
    "for col in (\"GarageType\", \"GarageFinish\", \"GarageQual\", \"GarageCond\"):\n",
    "    connection_df[col] = connection_df[col].fillna(\"None\")"
   ],
   "id": "1f6fa5b6d0f9f961",
   "execution_count": 8,
   "outputs": []
  },
  {
   "metadata": {
    "ExecuteTime": {
     "end_time": "2024-08-26T07:29:37.959217Z",
     "start_time": "2024-08-26T07:29:37.954210Z"
    }
   },
   "cell_type": "code",
   "source": [
    "for col in (\"BsmtQual\", \"BsmtCond\", \"BsmtExposure\", \"BsmtFinType1\", \"BsmtFinType2\"):\n",
    "    connection_df[col] = connection_df[col].fillna(\"None\")"
   ],
   "id": "dcfc52e9244f87cb",
   "execution_count": 9,
   "outputs": []
  },
  {
   "metadata": {
    "ExecuteTime": {
     "end_time": "2024-08-26T07:30:05.218034Z",
     "start_time": "2024-08-26T07:30:05.213614Z"
    }
   },
   "cell_type": "code",
   "source": "connection_df[\"MasVnrType\"] = connection_df[\"MasVnrType\"].fillna(\"None\")",
   "id": "bb4dd2463b1f3511",
   "execution_count": 10,
   "outputs": []
  },
  {
   "metadata": {
    "ExecuteTime": {
     "end_time": "2024-08-26T07:30:25.128618Z",
     "start_time": "2024-08-26T07:30:25.120357Z"
    }
   },
   "cell_type": "code",
   "source": "connection_df.isnull().sum()",
   "id": "b268b5705ad3d9ee",
   "execution_count": 11,
   "outputs": []
  },
  {
   "metadata": {},
   "cell_type": "markdown",
   "source": "# 数値型の欠損値処理",
   "id": "c683595dbda5fae7"
  },
  {
   "metadata": {
    "ExecuteTime": {
     "end_time": "2024-08-26T07:39:40.662146Z",
     "start_time": "2024-08-26T07:39:40.658350Z"
    }
   },
   "cell_type": "code",
   "source": [
    "for col in (\"BsmtFinSF1\", \"BsmtFinSF2\", \"BsmtUnfSF\", \"BsmtFullBath\", \"BsmtHalfBath\", \"TotalBsmtSF\"):\n",
    "    connection_df[col] = connection_df[col].fillna(0)"
   ],
   "id": "70c1fee58e6f93bb",
   "execution_count": 12,
   "outputs": []
  },
  {
   "metadata": {
    "ExecuteTime": {
     "end_time": "2024-08-26T07:42:00.375937Z",
     "start_time": "2024-08-26T07:42:00.372585Z"
    }
   },
   "cell_type": "code",
   "source": [
    "connection_df[\"MasVnrArea\"] = connection_df[\"MasVnrArea\"].fillna(0)\n",
    "connection_df[\"GarageYrBlt\"] = connection_df[\"GarageYrBlt\"].fillna(0)"
   ],
   "id": "aaf2b9a659606e8a",
   "execution_count": 13,
   "outputs": []
  },
  {
   "metadata": {
    "ExecuteTime": {
     "end_time": "2024-08-26T07:42:51.459859Z",
     "start_time": "2024-08-26T07:42:51.456386Z"
    }
   },
   "cell_type": "code",
   "source": [
    "for col in (\"GarageCars\", \"GarageArea\"):\n",
    "    connection_df[col] = connection_df[col].fillna(0)"
   ],
   "id": "8de74c0cb522bc52",
   "execution_count": 14,
   "outputs": []
  },
  {
   "metadata": {
    "ExecuteTime": {
     "end_time": "2024-08-26T07:43:07.774443Z",
     "start_time": "2024-08-26T07:43:07.765723Z"
    }
   },
   "cell_type": "code",
   "source": "connection_df.isnull().sum()",
   "id": "93061bce5353ae2b",
   "execution_count": 15,
   "outputs": []
  },
  {
   "metadata": {},
   "cell_type": "markdown",
   "source": "# 欠損値自体に意味のない文字型を最頻値で補完",
   "id": "5e497901198170d3"
  },
  {
   "metadata": {
    "ExecuteTime": {
     "end_time": "2024-08-26T07:45:32.287022Z",
     "start_time": "2024-08-26T07:45:32.280651Z"
    }
   },
   "cell_type": "code",
   "source": "connection_df[\"MSZoning\"].value_counts()",
   "id": "f8d14c45f9de1b91",
   "execution_count": 16,
   "outputs": []
  },
  {
   "metadata": {
    "ExecuteTime": {
     "end_time": "2024-08-26T07:48:27.681855Z",
     "start_time": "2024-08-26T07:48:27.672657Z"
    }
   },
   "cell_type": "code",
   "source": "connection_df[\"MSZoning\"] = connection_df[\"MSZoning\"].fillna(connection_df[\"MSZoning\"].mode()[0])",
   "id": "3ed8503d364b07cd",
   "execution_count": 17,
   "outputs": []
  },
  {
   "metadata": {
    "ExecuteTime": {
     "end_time": "2024-08-26T07:49:05.526534Z",
     "start_time": "2024-08-26T07:49:05.522128Z"
    }
   },
   "cell_type": "code",
   "source": "connection_df[\"Functional\"].value_counts()",
   "id": "5d561007c38d6aeb",
   "execution_count": 18,
   "outputs": []
  },
  {
   "metadata": {
    "ExecuteTime": {
     "end_time": "2024-08-26T07:50:01.067445Z",
     "start_time": "2024-08-26T07:50:01.063703Z"
    }
   },
   "cell_type": "code",
   "source": "connection_df[\"Functional\"] = connection_df[\"Functional\"].fillna(\"Typ\")",
   "id": "3789e238279ffb1d",
   "execution_count": 19,
   "outputs": []
  },
  {
   "metadata": {
    "ExecuteTime": {
     "end_time": "2024-08-26T07:53:01.556055Z",
     "start_time": "2024-08-26T07:53:01.548292Z"
    }
   },
   "cell_type": "code",
   "source": [
    "connection_df[\"Electrical\"] = connection_df[\"Electrical\"].fillna(connection_df[\"Electrical\"].mode()[0])\n",
    "connection_df[\"KitchenQual\"] = connection_df[\"KitchenQual\"].fillna(connection_df[\"KitchenQual\"].mode()[0])\n",
    "connection_df[\"Exterior1st\"] = connection_df[\"Exterior1st\"].fillna(connection_df[\"Exterior1st\"].mode()[0])\n",
    "connection_df[\"Exterior2nd\"] = connection_df[\"Exterior2nd\"].fillna(connection_df[\"Exterior2nd\"].mode()[0])\n",
    "connection_df[\"SaleType\"] = connection_df[\"SaleType\"].fillna(connection_df[\"SaleType\"].mode()[0])"
   ],
   "id": "2378b17d9b174d5a",
   "execution_count": 20,
   "outputs": []
  },
  {
   "metadata": {
    "ExecuteTime": {
     "end_time": "2024-08-26T07:53:48.911013Z",
     "start_time": "2024-08-26T07:53:48.906585Z"
    }
   },
   "cell_type": "code",
   "source": "connection_df[\"Utilities\"].value_counts()",
   "id": "aa625f8c64ffae29",
   "execution_count": 21,
   "outputs": []
  },
  {
   "metadata": {
    "ExecuteTime": {
     "end_time": "2024-08-26T07:54:19.056738Z",
     "start_time": "2024-08-26T07:54:19.051943Z"
    }
   },
   "cell_type": "code",
   "source": "connection_df = connection_df.drop([\"Utilities\"], axis=1)",
   "id": "aaf231e4698aa6b",
   "execution_count": 22,
   "outputs": []
  },
  {
   "metadata": {
    "ExecuteTime": {
     "end_time": "2024-08-26T07:56:16.818339Z",
     "start_time": "2024-08-26T07:56:16.812737Z"
    }
   },
   "cell_type": "code",
   "source": "connection_df[\"LotFrontage\"].value_counts()",
   "id": "7d04a71b53ad6140",
   "execution_count": 24,
   "outputs": []
  },
  {
   "metadata": {
    "ExecuteTime": {
     "end_time": "2024-08-26T07:57:49.138725Z",
     "start_time": "2024-08-26T07:57:49.133160Z"
    }
   },
   "cell_type": "code",
   "source": "connection_df[\"LotFrontage\"] = connection_df[\"LotFrontage\"].fillna(connection_df[\"LotFrontage\"].mode()[0])",
   "id": "3c01cec24fbfa9ee",
   "execution_count": 25,
   "outputs": []
  },
  {
   "metadata": {
    "ExecuteTime": {
     "end_time": "2024-08-26T07:57:52.500747Z",
     "start_time": "2024-08-26T07:57:52.491849Z"
    }
   },
   "cell_type": "code",
   "source": [
    "# 欠損値の有無確認\n",
    "connection_df.isnull().sum()"
   ],
   "id": "8082aaf21feca75e",
   "execution_count": 26,
   "outputs": []
  },
  {
   "metadata": {
    "ExecuteTime": {
     "end_time": "2024-08-26T07:58:13.265946Z",
     "start_time": "2024-08-26T07:58:13.249187Z"
    }
   },
   "cell_type": "code",
   "source": "connection_df",
   "id": "185140b65e80fa06",
   "execution_count": 27,
   "outputs": []
  },
  {
   "metadata": {},
   "cell_type": "markdown",
   "source": "# エンコーディング",
   "id": "a74b3f475ba4f4ef"
  },
  {
   "metadata": {
    "ExecuteTime": {
     "end_time": "2024-08-26T08:03:54.490998Z",
     "start_time": "2024-08-26T08:03:53.092235Z"
    }
   },
   "cell_type": "code",
   "source": [
    "from sklearn.preprocessing import LabelEncoder\n",
    "cols = ('FireplaceQu', 'BsmtQual', 'BsmtCond', 'GarageQual', 'GarageCond', \n",
    "        'ExterQual', 'ExterCond','HeatingQC', 'PoolQC', 'KitchenQual', 'BsmtFinType1', \n",
    "        'BsmtFinType2', 'Functional', 'Fence', 'BsmtExposure', 'GarageFinish', 'LandSlope',\n",
    "        'LotShape', 'PavedDrive', 'Street', 'Alley', 'CentralAir', 'MSSubClass', 'OverallCond', \n",
    "        'YrSold', 'MoSold')\n",
    "\n",
    "for col in cols:\n",
    "    lbl = LabelEncoder()\n",
    "    lbl.fit(list(connection_df[col].values))\n",
    "    connection_df[col] = lbl.transform(list(connection_df[col].values))"
   ],
   "id": "7231da4be3abba91",
   "execution_count": 28,
   "outputs": []
  },
  {
   "metadata": {
    "ExecuteTime": {
     "end_time": "2024-08-26T08:04:20.437220Z",
     "start_time": "2024-08-26T08:04:20.425271Z"
    }
   },
   "cell_type": "code",
   "source": [
    "connection_df[['FireplaceQu', 'BsmtQual', 'BsmtCond', 'GarageQual', 'GarageCond', \n",
    "        'ExterQual', 'ExterCond','HeatingQC', 'PoolQC', 'KitchenQual', 'BsmtFinType1', \n",
    "        'BsmtFinType2', 'Functional', 'Fence', 'BsmtExposure', 'GarageFinish', 'LandSlope',\n",
    "        'LotShape', 'PavedDrive', 'Street', 'Alley', 'CentralAir', 'MSSubClass', 'OverallCond', \n",
    "        'YrSold', 'MoSold']].head(10)"
   ],
   "id": "e777877c3e6fcd57",
   "execution_count": 29,
   "outputs": []
  },
  {
   "metadata": {
    "ExecuteTime": {
     "end_time": "2024-08-26T08:05:36.155941Z",
     "start_time": "2024-08-26T08:05:36.138015Z"
    }
   },
   "cell_type": "code",
   "source": "connection_df = pd.get_dummies(connection_df, drop_first=True)",
   "id": "e0915b246e09a17b",
   "execution_count": 30,
   "outputs": []
  },
  {
   "metadata": {},
   "cell_type": "markdown",
   "source": "# 学習データの分割",
   "id": "5de824e4f4dc6459"
  },
  {
   "metadata": {
    "ExecuteTime": {
     "end_time": "2024-08-26T08:12:15.171469Z",
     "start_time": "2024-08-26T08:12:15.165761Z"
    }
   },
   "cell_type": "code",
   "source": [
    "# データの分割\n",
    "train_df = connection_df[:len(df_train)]\n",
    "test_df = connection_df[len(df_train):].drop(columns=['SalePrice'])\n",
    "\n",
    "# X_trainには、SalePriceを除いたtrain_dfを代入\n",
    "X_train = train_df.drop(\"SalePrice\", axis=1)\n",
    "\n",
    "# y_trainには、SalePriceのみが入ったtrain_dfを代入\n",
    "y_train = train_df[\"SalePrice\"]\n",
    "\n",
    "# X_testにはtrain_dfを代入\n",
    "X_test = test_df\n",
    "\n",
    "print(X_train.shape, y_train.shape, X_test.shape)"
   ],
   "id": "c90405cc2afd5c9a",
   "execution_count": 31,
   "outputs": []
  },
  {
   "metadata": {
    "ExecuteTime": {
     "end_time": "2024-08-26T08:20:38.473463Z",
     "start_time": "2024-08-26T08:20:36.769872Z"
    }
   },
   "cell_type": "code",
   "source": [
    "from sklearn.model_selection import KFold\n",
    "from sklearn.metrics import mean_squared_error\n",
    "\n",
    "def run_cv(model):\n",
    "    \"\"\"\n",
    "    \n",
    "    :param model: \n",
    "    :return: \n",
    "    \"\"\"\n",
    "    cv = KFold(n_splits=3, random_state=42, shuffle=True)\n",
    "    rmse_results = []\n",
    "    models = []\n",
    "    \n",
    "    for trn_index, val_index in cv.split(X_train):\n",
    "        X_trn, X_val = X_train.loc[trn_index], X_train.loc[val_index]\n",
    "        y_trn, y_val = y_train[trn_index], y_train[val_index]\n",
    "        \n",
    "        # モデルの学習\n",
    "        model.fit(X_trn, y_trn)\n",
    "        pred = model.predict(X_val)\n",
    "        \n",
    "        # モデル制度の算出\n",
    "        rmse = np.sqrt(mean_squared_error(y_val, pred))\n",
    "        print(\"RMSE:\", rmse)\n",
    "        models.append(model)\n",
    "    \n",
    "    print(rmse_results)\n",
    "    print(\"Average RMSE:\", np.mean(rmse_results))\n",
    "    return models"
   ],
   "id": "795d394e9a3cea6a",
   "execution_count": 32,
   "outputs": []
  },
  {
   "metadata": {
    "ExecuteTime": {
     "end_time": "2024-08-26T08:26:12.155593Z",
     "start_time": "2024-08-26T08:26:09.314293Z"
    }
   },
   "cell_type": "code",
   "source": [
    "import lightgbm as lgb\n",
    "\n",
    "lgb_params = {\n",
    "    \"objective\":\"regression\",\n",
    "    \"metric\": \"rmse\"\n",
    "}\n",
    "\n",
    "cv = KFold(n_splits=3, random_state=42, shuffle=True)\n",
    "rmse_results = []\n",
    "lgbm_models = []\n",
    "# テストデータに対する予測結果を格納するための空の配列\n",
    "test_preds = np.zeros(len(X_test))\n",
    "\n",
    "for trn_index, val_index in cv.split(X_train, y_train):\n",
    "    X_trn, X_val = X_train.loc[trn_index], X_train.loc[val_index]\n",
    "    y_trn, y_val = y_train[trn_index], y_train[val_index]\n",
    "    \n",
    "    train_lgb = lgb.Dataset(X_trn, y_trn)\n",
    "    validation_lgb = lgb.Dataset(X_val, y_val)\n",
    "    model = lgb.train(\n",
    "        lgb_params, train_lgb, \n",
    "        num_boost_round=1000, valid_sets=[train_lgb, validation_lgb], \n",
    "\n",
    "        )\n",
    "    pred = model.predict(X_val)\n",
    "    rmse = np.sqrt(mean_squared_error(y_val, pred))\n",
    "    print(\"RMSE:\", rmse)\n",
    "    rmse_results.append(rmse)\n",
    "    lgbm_models.append(model)\n",
    "\n",
    "    test_preds += model.predict(X_test) / cv.n_splits\n",
    "\n",
    "print(rmse_results)\n",
    "print(\"Average:\", np.mean(rmse_results))"
   ],
   "id": "f1358ed3fbedc0e5",
   "execution_count": 35,
   "outputs": []
  },
  {
   "metadata": {},
   "cell_type": "markdown",
   "source": "# データの提出",
   "id": "3aab19ac214b1ba8"
  },
  {
   "metadata": {
    "ExecuteTime": {
     "end_time": "2024-08-26T08:28:19.388314Z",
     "start_time": "2024-08-26T08:28:19.359305Z"
    }
   },
   "cell_type": "code",
   "source": [
    "submission = pd.read_csv(\"sample_submission.csv\")\n",
    "submission[\"SalePrice\"] = test_preds\n",
    "\n",
    "# 提出ファイルの出力\n",
    "submission.to_csv(\"submission.csv\", index=False)"
   ],
   "id": "78d9fa47e1c69f14",
   "execution_count": 36,
   "outputs": []
  }
 ],
 "metadata": {
  "kernelspec": {
   "display_name": "Python 3",
   "language": "python",
   "name": "python3"
  },
  "language_info": {
   "codemirror_mode": {
    "name": "ipython",
    "version": 2
   },
   "file_extension": ".py",
   "mimetype": "text/x-python",
   "name": "python",
   "nbconvert_exporter": "python",
   "pygments_lexer": "ipython2",
   "version": "2.7.6"
  }
 },
 "nbformat": 4,
 "nbformat_minor": 5
}
