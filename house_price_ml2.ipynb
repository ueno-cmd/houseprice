{
 "cells": [
  {
   "metadata": {},
   "cell_type": "markdown",
   "source": "# 学習データの分割",
   "id": "5de824e4f4dc6459"
  },
  {
   "metadata": {
    "ExecuteTime": {
     "end_time": "2024-08-30T02:29:16.019684Z",
     "start_time": "2024-08-30T02:29:16.016033Z"
    }
   },
   "cell_type": "code",
   "source": [
    "import numpy as np\n",
    "import pandas as pd"
   ],
   "id": "12198c3ec7cc78f",
   "execution_count": 1,
   "outputs": []
  },
  {
   "metadata": {
    "ExecuteTime": {
     "end_time": "2024-08-30T02:29:22.270105Z",
     "start_time": "2024-08-30T02:29:22.199588Z"
    }
   },
   "cell_type": "code",
   "source": [
    "# データの分割\n",
    "df_train = pd.read_csv('data/input/train.csv')\n",
    "df_test = pd.read_csv('data/input/test.csv')\n",
    "connection_df = pd.read_csv('data/input/pretreatment_data02.csv')\n",
    "\n",
    "train_df = connection_df[:len(df_train)]\n",
    "test_df = connection_df[len(df_train):].drop(columns=['SalePrice'])\n",
    "\n",
    "# 説明変数X_trainには、SalePriceを除いたtrain_dfを代入\n",
    "X_train = train_df.drop(\"SalePrice\", axis=1)\n",
    "\n",
    "# 目的変数y_trainには、SalePriceのみが入ったtrain_dfを代入\n",
    "y_train = train_df[\"SalePrice\"]\n",
    "\n",
    "# X_testにはtrain_dfを代入\n",
    "X_test = test_df\n",
    "\n",
    "print(X_train.shape, y_train.shape, X_test.shape)"
   ],
   "id": "c90405cc2afd5c9a",
   "execution_count": 2,
   "outputs": []
  },
  {
   "metadata": {
    "ExecuteTime": {
     "end_time": "2024-08-30T02:34:48.427431Z",
     "start_time": "2024-08-30T02:34:47.050739Z"
    }
   },
   "cell_type": "code",
   "source": [
    "# 決定木モデル構築\n",
    "from sklearn.tree import DecisionTreeRegressor\n",
    "\n",
    "model = DecisionTreeRegressor()\n",
    "model.fit(X_train, y_train)"
   ],
   "id": "795d394e9a3cea6a",
   "execution_count": 3,
   "outputs": []
  },
  {
   "metadata": {
    "ExecuteTime": {
     "end_time": "2024-08-30T02:34:56.340931Z",
     "start_time": "2024-08-30T02:34:56.334146Z"
    }
   },
   "cell_type": "code",
   "source": [
    "# 判定\n",
    "y_test = model.predict(X_test)"
   ],
   "id": "ee211b6a5277a5c6",
   "execution_count": 4,
   "outputs": []
  },
  {
   "metadata": {},
   "cell_type": "markdown",
   "source": "# データの提出",
   "id": "3aab19ac214b1ba8"
  },
  {
   "metadata": {
    "ExecuteTime": {
     "end_time": "2024-08-30T02:35:07.371827Z",
     "start_time": "2024-08-30T02:35:07.364774Z"
    }
   },
   "cell_type": "code",
   "source": [
    "submission = pd.read_csv(\"data/input/sample_submission.csv\")\n",
    "submission[\"SalePrice\"] = y_test\n",
    "\n",
    "# 提出ファイルの出力\n",
    "submission.to_csv(\"data/output/submission240830_1.csv\", index=False)"
   ],
   "id": "78d9fa47e1c69f14",
   "execution_count": 5,
   "outputs": []
  }
 ],
 "metadata": {
  "kernelspec": {
   "display_name": "Python 3",
   "language": "python",
   "name": "python3"
  },
  "language_info": {
   "codemirror_mode": {
    "name": "ipython",
    "version": 2
   },
   "file_extension": ".py",
   "mimetype": "text/x-python",
   "name": "python",
   "nbconvert_exporter": "python",
   "pygments_lexer": "ipython2",
   "version": "2.7.6"
  }
 },
 "nbformat": 4,
 "nbformat_minor": 5
}
