{
 "cells": [
  {
   "metadata": {},
   "cell_type": "markdown",
   "source": "# 学習データの分割",
   "id": "5de824e4f4dc6459"
  },
  {
   "metadata": {
    "ExecuteTime": {
     "end_time": "2024-08-30T06:38:12.227269Z",
     "start_time": "2024-08-30T06:38:12.101019Z"
    }
   },
   "cell_type": "code",
   "source": [
    "import lightgbm\n",
    "import numpy as np\n",
    "import pandas as pd"
   ],
   "id": "12198c3ec7cc78f",
   "outputs": [],
   "execution_count": 1
  },
  {
   "metadata": {
    "ExecuteTime": {
     "end_time": "2024-08-30T06:38:15.647575Z",
     "start_time": "2024-08-30T06:38:15.580185Z"
    }
   },
   "cell_type": "code",
   "source": [
    "# データの分割\n",
    "df_train = pd.read_csv('data/input/train.csv')\n",
    "df_test = pd.read_csv('data/input/test.csv')\n",
    "connection_df = pd.read_csv('data/input/pretreatment_data02.csv')\n",
    "\n",
    "df_train_a = connection_df[:len(df_train)]\n",
    "df_test_a = connection_df[len(df_train):].drop(columns=[\"SalePrice\"])\n",
    "\n",
    "X_train = df_train_a.drop(\"SalePrice\", axis=1)\n",
    "y_train = df_train_a[\"SalePrice\"]\n",
    "X_test = df_test_a\n",
    "\n",
    "print(X_train.shape, y_train.shape, X_test.shape)"
   ],
   "id": "c90405cc2afd5c9a",
   "outputs": [
    {
     "name": "stdout",
     "output_type": "stream",
     "text": [
      "(1460, 201) (1460,) (1459, 201)\n"
     ]
    }
   ],
   "execution_count": 2
  },
  {
   "metadata": {
    "ExecuteTime": {
     "end_time": "2024-08-30T06:38:22.341244Z",
     "start_time": "2024-08-30T06:38:22.336179Z"
    }
   },
   "cell_type": "code",
   "source": [
    "from sklearn.model_selection import KFold\n",
    "from sklearn.metrics import mean_squared_error\n",
    "\n",
    "def run_cv(model):\n",
    "    \"\"\"概要\n",
    "    二乗平均並行誤差の関数化\n",
    "    :param model: \n",
    "    :return: \n",
    "    \"\"\"\n",
    "    cv = KFold(\n",
    "        n_splits=3,\n",
    "        random_state=42,\n",
    "        shuffle=True\n",
    "    )\n",
    "    rmse_results = []\n",
    "    models = []\n",
    "    for trn_index, val_index in cv.split(X_train):\n",
    "        X_trn, X_val = X_train.loc[trn_index], X_train.loc[val_index]\n",
    "        y_trn, y_val = y_train[trn_index], y_train[val_index]\n",
    "\n",
    "        # モデルの学習\n",
    "        model.fit(X_trn, y_trn)\n",
    "        pred = model.predict(X_val)\n",
    "\n",
    "        # モデルの精度を算出\n",
    "        rmse = np.sqrt(mean_squared_error(y_val, pred))\n",
    "        print(\"RMSE:\", rmse)\n",
    "        rmse_results.append(rmse)\n",
    "        models.append(model)\n",
    "\n",
    "    print(rmse_results)\n",
    "    print(\"Average:\", np.mean(rmse_results))\n",
    "    return models"
   ],
   "id": "785e66de07ec021a",
   "outputs": [],
   "execution_count": 3
  },
  {
   "metadata": {},
   "cell_type": "markdown",
   "source": "# 予測モデルの作成",
   "id": "33595b57b042c5be"
  },
  {
   "metadata": {
    "ExecuteTime": {
     "end_time": "2024-08-30T07:08:23.443192Z",
     "start_time": "2024-08-30T07:08:23.439644Z"
    }
   },
   "cell_type": "code",
   "source": [
    "import lightgbm as lgb\n",
    "\n",
    "# lightgbmのパラメータ調整\n",
    "lgb_params = {\n",
    "    \"objective\": \"regression\",\n",
    "    \"metric\": \"rmse\",\n",
    "    \"boosting_type\": \"gbdt\",\n",
    "    \"num_leaves\": 31,\n",
    "    \"learning_rate\": 0.05,\n",
    "    \"feature_fraction\": 0.9,\n",
    "    \"bagging_fraction\": 0.8,\n",
    "    \"bagging_freq\": 5,\n",
    "    \"verbose\": -1,\n",
    "    \"early_stopping_rounds\": 300\n",
    "}"
   ],
   "id": "2127f69b0369b060",
   "outputs": [],
   "execution_count": 21
  },
  {
   "metadata": {
    "ExecuteTime": {
     "end_time": "2024-08-30T07:08:25.695524Z",
     "start_time": "2024-08-30T07:08:23.736714Z"
    }
   },
   "cell_type": "code",
   "source": [
    "# KFoldオブジェクトの作成\n",
    "cv = KFold(\n",
    "    n_splits=3,\n",
    "    random_state=42,\n",
    "    shuffle=True\n",
    "    )\n",
    "\n",
    "# モデル構築、テストデータに対する予測結果を格納するための空の配列\n",
    "rmse_results = []\n",
    "lgbm_models = []\n",
    "test_preds = np.zeros(len(X_test))\n",
    "\n",
    "for trn_index, val_index in cv.split(X_train, y_train):\n",
    "    X_trn, X_val = X_train.loc[trn_index], X_train.loc[val_index]\n",
    "    y_trn, y_val = y_train[trn_index], y_train[val_index]\n",
    "\n",
    "    train_lgb = lgb.Dataset(X_trn, y_trn)\n",
    "    validation_lgb = lgb.Dataset(X_val, y_val)\n",
    "\n",
    "    model = lgb.train(\n",
    "        lgb_params,\n",
    "        train_lgb, \n",
    "        num_boost_round=1000,\n",
    "        valid_sets=[train_lgb, validation_lgb], \n",
    "        callbacks=[lgb.log_evaluation(period=100)],\n",
    "        )\n",
    "\n",
    "    pred = model.predict(X_val)\n",
    "    rmse = np.sqrt(mean_squared_error(y_val, pred))\n",
    "    print(\"RMSE:\", rmse)\n",
    "    rmse_results.append(rmse)\n",
    "    lgbm_models.append(model)\n",
    "\n",
    "    test_preds += model.predict(X_test) / cv.n_splits\n",
    "\n",
    "print(rmse_results)\n",
    "print(\"Average:\", np.mean(rmse_results))"
   ],
   "id": "dbacea82f11750a0",
   "outputs": [
    {
     "name": "stdout",
     "output_type": "stream",
     "text": [
      "[100]\ttraining's rmse: 17520.6\tvalid_1's rmse: 30964.3\n",
      "[200]\ttraining's rmse: 12337.1\tvalid_1's rmse: 30572.1\n",
      "[300]\ttraining's rmse: 9395.33\tvalid_1's rmse: 30540.7\n",
      "[400]\ttraining's rmse: 7458.63\tvalid_1's rmse: 30462.3\n",
      "RMSE: 30355.844566036656\n",
      "[100]\ttraining's rmse: 17288.7\tvalid_1's rmse: 33448.9\n",
      "[200]\ttraining's rmse: 11776.9\tvalid_1's rmse: 35220\n",
      "[300]\ttraining's rmse: 8678.65\tvalid_1's rmse: 36640.4\n",
      "[400]\ttraining's rmse: 6640.64\tvalid_1's rmse: 37745.2\n",
      "RMSE: 33448.93602971436\n",
      "[100]\ttraining's rmse: 22190.1\tvalid_1's rmse: 23386.2\n",
      "[200]\ttraining's rmse: 16234.9\tvalid_1's rmse: 23436.5\n",
      "[300]\ttraining's rmse: 12537.8\tvalid_1's rmse: 23670\n",
      "[400]\ttraining's rmse: 9733.95\tvalid_1's rmse: 23979.7\n",
      "RMSE: 23035.674672993588\n",
      "[np.float64(30355.844566036656), np.float64(33448.93602971436), np.float64(23035.674672993588)]\n",
      "Average: 28946.818422914865\n"
     ]
    }
   ],
   "execution_count": 22
  },
  {
   "metadata": {},
   "cell_type": "markdown",
   "source": "# データの提出",
   "id": "3aab19ac214b1ba8"
  },
  {
   "metadata": {
    "ExecuteTime": {
     "end_time": "2024-08-30T07:08:58.611365Z",
     "start_time": "2024-08-30T07:08:58.602544Z"
    }
   },
   "cell_type": "code",
   "source": [
    "submission = pd.read_csv(\"data/input/sample_submission.csv\")\n",
    "submission[\"SalePrice\"] = test_preds\n",
    "\n",
    "# 提出ファイルの出力\n",
    "submission.to_csv(\"data/output/submission240830_3.csv\", index=False)"
   ],
   "id": "78d9fa47e1c69f14",
   "outputs": [],
   "execution_count": 23
  }
 ],
 "metadata": {
  "kernelspec": {
   "display_name": "Python 3",
   "language": "python",
   "name": "python3"
  },
  "language_info": {
   "codemirror_mode": {
    "name": "ipython",
    "version": 2
   },
   "file_extension": ".py",
   "mimetype": "text/x-python",
   "name": "python",
   "nbconvert_exporter": "python",
   "pygments_lexer": "ipython2",
   "version": "2.7.6"
  }
 },
 "nbformat": 4,
 "nbformat_minor": 5
}
